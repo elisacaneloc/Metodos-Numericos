{
 "cells": [
  {
   "cell_type": "markdown",
   "metadata": {},
   "source": [
    "Catedra 01\n",
    "==========="
   ]
  },
  {
   "cell_type": "markdown",
   "metadata": {},
   "source": [
    "### Primera tarea sera anunciada hoy.\n",
    "- Entrega el segundo miercoles, despues de haber tenido 2 auxiliares."
   ]
  },
  {
   "cell_type": "markdown",
   "metadata": {},
   "source": [
    "## La primera parte del curso\n",
    "- Derivadas e Integrales numericas.\n",
    "- Manejo de errores debido a precision."
   ]
  },
  {
   "cell_type": "code",
   "execution_count": 2,
   "metadata": {
    "collapsed": true
   },
   "outputs": [],
   "source": [
    "import matplotlib.pyplot as plt\n",
    "import matplotlib as mp\n",
    "import math\n",
    "%matplotlib inline"
   ]
  },
  {
   "cell_type": "markdown",
   "metadata": {},
   "source": [
    "### Nota:\n",
    "- matplotlib.org -> documentacion de pyplot."
   ]
  },
  {
   "cell_type": "code",
   "execution_count": 3,
   "metadata": {
    "collapsed": true
   },
   "outputs": [],
   "source": [
    "# Cambia el tamano de los ticks (los puntos de los ejes)\n",
    "mp.rcParams['xtick.labelsize'] = 13\n",
    "mp.rcParams['ytick.labelsize'] = 13"
   ]
  },
  {
   "cell_type": "markdown",
   "metadata": {},
   "source": [
    "# Manejo de errores:"
   ]
  },
  {
   "cell_type": "markdown",
   "metadata": {},
   "source": [
    "## Error de truncacion\n",
    "- Calculo del numero e a traves de la expansion de Taylor: $\\sum_{k=0}^{\\infty}\\frac{x^{k}}{k!}$\n",
    "\n",
    "### Forma basica:"
   ]
  },
  {
   "cell_type": "code",
   "execution_count": 4,
   "metadata": {
    "collapsed": true
   },
   "outputs": [],
   "source": [
    "# Parametros iniciales.\n",
    "e = 1.\n",
    "k_factorial = 1.\n",
    "N_max = 10\n",
    "e_vs_n = [e] # Lista que va a contener los elementos de la serie.\n",
    "for i in range(1,N_max): # Ciclo que calcula los elementos de la serie y los suma.\n",
    "    k_factorial *= i\n",
    "    e += 1. / k_factorial\n",
    "    e_vs_n.append(e)"
   ]
  },
  {
   "cell_type": "code",
   "execution_count": 5,
   "metadata": {
    "collapsed": false
   },
   "outputs": [
    {
     "name": "stdout",
     "output_type": "stream",
     "text": [
      "(0, 1.0)\n",
      "(1, 2.0)\n",
      "(2, 2.5)\n",
      "(3, 2.6666666666666665)\n",
      "(4, 2.708333333333333)\n",
      "(5, 2.7166666666666663)\n",
      "(6, 2.7180555555555554)\n",
      "(7, 2.7182539682539684)\n",
      "(8, 2.71827876984127)\n",
      "(9, 2.7182815255731922)\n"
     ]
    }
   ],
   "source": [
    "# Instruccion para imprimir nuestra aproximacion a e en cada iteracion.\n",
    "for i in range(N_max):\n",
    "    print(i, e_vs_n[i])"
   ]
  },
  {
   "cell_type": "code",
   "execution_count": 6,
   "metadata": {
    "collapsed": false
   },
   "outputs": [
    {
     "data": {
      "text/plain": [
       "<matplotlib.text.Text at 0x10c9b1d90>"
      ]
     },
     "execution_count": 6,
     "metadata": {},
     "output_type": "execute_result"
    },
    {
     "data": {
      "image/png": "[encoded data removed]",
      "text/plain": [
       "<matplotlib.figure.Figure at 0x10c9769d0>"
      ]
     },
     "metadata": {},
     "output_type": "display_data"
    }
   ],
   "source": [
    "plt.plot(range(N_max), e_vs_n) # Genera un grafico de e_vs_n v\n",
    "plt.axhline(math.e, color='0.5') # Genera una linea en 'e'\n",
    "plt.ylim(0,3) # Cambia los limites del eje y del grafico\n",
    "# Cambia los labels del grafico.\n",
    "plt.xlabel('N', fontsize=20)\n",
    "plt.ylabel('$e_{N}$', fontsize=20)"
   ]
  },
  {
   "cell_type": "code",
   "execution_count": 7,
   "metadata": {
    "collapsed": false
   },
   "outputs": [
    {
     "data": {
      "text/plain": [
       "\"\\nNOTA:\\nLo anterior es equivalente a hacer\\nplt.semilogy(range(N_max), diferencia))\\nplt.xlabel('N', fontsize=20)\\nplt.ylabel('$e_N - e_{real}$', fontsize=20)\\n\""
      ]
     },
     "execution_count": 7,
     "metadata": {},
     "output_type": "execute_result"
    },
    {
     "data": {
      "image/png": "[encoded data removed]",
      "text/plain": [
       "<matplotlib.figure.Figure at 0x111fcc610>"
      ]
     },
     "metadata": {},
     "output_type": "display_data"
    }
   ],
   "source": [
    "# Se hace un ciclo for dentro de una lista. i.e. Comprehension list\n",
    "diferencia = [math.fabs(e_i - math.e) for e_i in e_vs_n] # Nota. fabs convierte a float y luego calcular abs\n",
    "# Se hace un grafico con escala logaritmica en el eje y.\n",
    "plt.plot(range(N_max), diferencia)\n",
    "plt.yscale('log')\n",
    "plt.xlabel('N', fontsize=20)\n",
    "plt.ylabel('$e_N - e_{real}$', fontsize=20)\n",
    "\n",
    "\"\"\"\n",
    "NOTA:\n",
    "Lo anterior es equivalente a hacer\n",
    "plt.semilogy(range(N_max), diferencia))\n",
    "plt.xlabel('N', fontsize=20)\n",
    "plt.ylabel('$e_N - e_{real}$', fontsize=20)\n",
    "\"\"\""
   ]
  },
  {
   "cell_type": "markdown",
   "metadata": {},
   "source": [
    "## Efectos de precision sobre integrales\n",
    "### Error de Redondeo\n",
    "Calculando la derivada de $\\sin(x)$"
   ]
  },
  {
   "cell_type": "markdown",
   "metadata": {},
   "source": [
    "## Ahora usamos numpy"
   ]
  },
  {
   "cell_type": "code",
   "execution_count": 8,
   "metadata": {
    "collapsed": true
   },
   "outputs": [],
   "source": [
    "import numpy as np"
   ]
  },
  {
   "cell_type": "code",
   "execution_count": 9,
   "metadata": {
    "collapsed": false
   },
   "outputs": [
    {
     "name": "stdout",
     "output_type": "stream",
     "text": [
      "[  1.00000000e-01   8.37677640e-03   7.01703829e-04   5.87801607e-05\n",
      "   4.92388263e-06   4.12462638e-07   3.45510729e-08   2.89426612e-09\n",
      "   2.42446202e-10   2.03091762e-11   1.70125428e-12   1.42510267e-13\n",
      "   1.19377664e-14   1.00000000e-15]\n"
     ]
    }
   ],
   "source": [
    "epsilon = np.logspace(-1, -15, 14, base=10.)\n",
    "print(epsilon)"
   ]
  },
  {
   "cell_type": "code",
   "execution_count": 10,
   "metadata": {
    "collapsed": false
   },
   "outputs": [
    {
     "name": "stdout",
     "output_type": "stream",
     "text": [
      "<type 'list'>\n",
      "<type 'numpy.ndarray'>\n"
     ]
    }
   ],
   "source": [
    "print(type(e_vs_n))\n",
    "print(type(epsilon))"
   ]
  },
  {
   "cell_type": "code",
   "execution_count": 11,
   "metadata": {
    "collapsed": false
   },
   "outputs": [
    {
     "name": "stdout",
     "output_type": "stream",
     "text": [
      "[ 0.49736375  0.5367716   0.54000703  0.54027757  0.54030023  0.54030213\n",
      "  0.54030229  0.54030231  0.54030266  0.54029766  0.54034525  0.54065914\n",
      "  0.53940522  0.55511151]\n"
     ]
    }
   ],
   "source": [
    "dsindx = (np.sin(1.+epsilon) - np.sin(1.)) / epsilon\n",
    "print(dsindx)"
   ]
  },
  {
   "cell_type": "code",
   "execution_count": 12,
   "metadata": {
    "collapsed": false
   },
   "outputs": [
    {
     "data": {
      "image/png": "[encoded data removed]",
      "text/plain": [
       "<matplotlib.figure.Figure at 0x112abba90>"
      ]
     },
     "metadata": {},
     "output_type": "display_data"
    }
   ],
   "source": [
    "plt.semilogx(epsilon, dsindx - np.cos(1.), 'o')\n",
    "plt.axhline(0, color='0.8')\n",
    "plt.xlabel('epsilon', fontsize=20)\n",
    "plt.ylabel('$\\\\frac{d}{dx}\\\\sin(x) - \\\\cos(x)$', fontsize=20)\n",
    "_ = plt.xticks(epsilon[::2])"
   ]
  },
  {
   "cell_type": "markdown",
   "metadata": {},
   "source": [
    "# Catedra 02 (Continuacion de Catedra 01)"
   ]
  },
  {
   "cell_type": "markdown",
   "metadata": {},
   "source": [
    "## Integrales Numericas\n",
    "\n",
    "$$g(x) = \\int_{a}^{x} f(x')dx'$$\n",
    "\n",
    "Equivale a resolver una ecuacion diferencial:\n",
    "\n",
    "$$g'(x)  = f(x)$$ con condiciones de borde: \n",
    "$$\\int_{a}^{x}g'(x')dx' = \\int_{a}^{x}f(x')dx'$$\n",
    "\n",
    "$$g(x)-g(a) = \\int_{a}^{x}f(x')dx'$$"
   ]
  },
  {
   "cell_type": "markdown",
   "metadata": {},
   "source": [
    "# Integracion Numerica Directa"
   ]
  },
  {
   "cell_type": "markdown",
   "metadata": {},
   "source": [
    "# Regla Trapezoidal\n",
    "\n",
    "### Idea: Aproximar el area de la curva como el area bajo un trapecio entre dos puntos de la funcion\n",
    "\n",
    "![title](../img/trapezoidal_demo.png \"Idea del metodo.\")\n",
    "\n",
    "$$\n",
    "\\int_{x_{0}}^{x_{0}+\\Delta x}f(x')dx'\n",
    "$$\n",
    "\n",
    "Haciendo una expansion de taylor sobre la integral se obtiene:\n",
    "\n",
    "$$\n",
    "\\int_{x_{0}}^{x_{0}+\\Delta x}\\left[\n",
    "    f(x_{0}) + f'(x_{o})(x'-x_{0}) + \\frac{1}{2}f''(x_{0})(x'-x_{0})^{2} + \\ldots\n",
    "\\right]dx'\n",
    "$$\n",
    "\n",
    "$$\n",
    "= f(x_{0}\\Delta x + \\frac{f'(x_{0})(x-x_{0})^{2}}{2}\\biggr\\vert_{x_{0}}^{x} + \\frac{1}{2}f''(x_{0})\\frac{(x-x_{0})^{3}}{3}\\biggr\\vert_{x_{0}}^{x} + \\ldots\n",
    "$$\n",
    "\n",
    "$$\n",
    "= f(x_{0})\\Delta x + f'(x_{0})\\frac{\\Delta x^{2}}{2} + \\frac{1}{6}f''(x_{0})\\Delta x^{3} + \\ldots\n",
    "$$\n",
    "\n",
    "$$\n",
    "= \\frac{\\Delta x}{2}\\left[\n",
    "    f(x_{0}) + \\left(\n",
    "        f(x_{0}) + f'(x_{0})\\Delta x + f''(x_{0})\\frac{\\Delta x^{2}}{2} + \\ldots\n",
    "    \\right) - f''(x_{0})\\frac{\\Delta x^{2}}{6}\n",
    "\\right]\n",
    "$$\n",
    "\n",
    "Note que el error de truncacion es del mismo orden en $\\Delta x$ que el ultimo termino previo a truncar."
   ]
  },
  {
   "cell_type": "markdown",
   "metadata": {},
   "source": [
    "$$\n",
    "\\int_{x_0}^{x_{0}+\\Delta x}f(x')dx' = \\frac{\\Delta x}{2}\\left[\n",
    "    f(x_{0}) + f(x_{0}+\\Delta x) + O(\\Delta x^2)\n",
    "\\right] = \\left(\n",
    "    f(x_{0}) + f(x_{0}+\\Delta x)\n",
    "\\right)\\frac{\\Delta x}{2} + O(\\Delta x^3)\n",
    "$$\n",
    "\n",
    "Donde $O(\\Delta x^3) \\sim -f''(x_{0})\\frac{\\Delta x^3}{12}$"
   ]
  },
  {
   "cell_type": "markdown",
   "metadata": {},
   "source": [
    "(graficos van aca)\n",
    "\n",
    "dividir [a,b] en $N = \\frac{b-a}{\\Delta x}$ tramos.\n",
    "\n",
    "$$\n",
    "\\int_{a}^{b}f(x)dx \\sim \\sum_{i=0}^{N-1}\\left[\n",
    "    \\frac{f(a+\\Delta xi)+f(a+\\Delta x(i+1))}{2}\\Delta x + O^{*}(\\Delta x^3)\n",
    "\\right]\n",
    "$$\n",
    "\n",
    "Nos interesa encontrar una cota superior para nuestro error. Como estamos sumando N tramos, estamos incluyendo N errores, y dado que el error de cada tramo va como $\\Delta x^3$ y N va como $\\Delta x$, el error finalmente queda como $O(\\Delta x^2)$\n",
    "\n",
    "$$\n",
    "\\sim \\left[\n",
    "    \\sum_{i=0}^{N-1}\\frac{f(a+\\Delta xi)+f(a+\\Delta x(i+1))}{2}\\Delta x\n",
    "\\right] + NO^{*}(\\Delta x^3) \\rightarrow O(\\Delta x^2)\n",
    "$$"
   ]
  },
  {
   "cell_type": "markdown",
   "metadata": {},
   "source": [
    "$$\n",
    "\\int_{a}^{b} f(x)dx \\sim \\frac{f(a)\\Delta x}{2} + \\sum_{i=1}^{N-1}f(a+i\\Delta x)\\Delta x + \\frac{f(b)\\Delta x}{2} + O(\\Delta x^2)\n",
    "$$\n",
    "\n",
    "La regla compuesta asumiendo $\\Delta x$ __constante__"
   ]
  },
  {
   "cell_type": "markdown",
   "metadata": {},
   "source": [
    "## Regla de Simpson\n",
    "\n",
    "### Idea: Mas evaluaciones (terminos de la expansion) a cambio de mayor precision.\n",
    "\n",
    "Se hace una suerte de \"doble Taylor\"\n",
    "\n",
    "$$\n",
    "\\int_{x_{0}}^{x_{0}+2\\Delta x}f(x)dx = \\int_{x_{0}}^{x_{0}+2\\Delta x}\\left[\n",
    "    f(x_{0} + f'(x_{0})(x-x_{0}) + f''(x_{0})\\frac{(x-x_{0})^{2}}{2} + f'''(x_{0})\\frac{(x-x_{0})^{3}}{6} + f^{\\text{iv}}(x_{0})\\frac{(x-x_{0})^{4}}{24} + \\ldots\n",
    "\\right]\n",
    "$$\n",
    "\n",
    "$$\n",
    "= f(x_{0})2\\Delta x + f'(x_{0})\\frac{(2\\Delta x)^{2}}{2} + \\frac{f''(x_{0})}{2}\\frac{(2\\Delta x)^{3}}{3} + \\frac{f'''(x_{0})}{6}\\frac{(2\\Delta x)^{4}}{4} + \\frac{f^{\\text{iv}}(x_{0})}{24}\\frac{(2\\Delta x)^{5}}{5}\n",
    "$$\n",
    "\n",
    "$$\n",
    "= \\frac{\\Delta x}{3}\\left[\n",
    "    f(x_{0}) + 4f(x_{0}) + 4f'(x_{0})\\Delta x + 4 f''(x_{0})\\frac{\\Delta x^2}{2} + 4f'''(x_{0})\\frac{\\Delta x^3}{6} \\\\\n",
    "    + f(x_{0}) + f'(x_{0})(2\\Delta x) + f''(x_{0})\\frac{(2\\Delta x)^{2}}{2} + f'''(x_{0})\\frac{(2\\Delta x)^{3}}{6} + O(\\Delta x^4)\n",
    "\\right]\n",
    "$$\n",
    "\n",
    "$$\n",
    "= \\frac{\\Delta x}{3}\\left[\n",
    "    f(x_{0}) + 4f(x_{0}+\\Delta x) + f(x_{0} + 2\\Delta x)\n",
    "\\right] + O(\\Delta x^5)\n",
    "$$\n",
    "\n",
    "Note que para la regla compuesta el orden del error va como $\\Delta x^4$"
   ]
  },
  {
   "cell_type": "markdown",
   "metadata": {},
   "source": [
    "## Regla compuesta\n",
    "\n",
    "$$\n",
    "\\int_{a}^{b}f(x)dx = \\left[\n",
    "    \\sum_{i=1}^{N-1}\\frac{\\Delta x}{3}\\left[\n",
    "        f_{i-1} + 4f-{i} + f_{i+1}\n",
    "    \\right]\n",
    "\\right] + O(\\Delta x^4)\n",
    "$$\n",
    "\n",
    "Donde $f_{i} = f(a+i\\Delta x)$\n",
    "\n",
    "Note que este metodo tambien asume $\\Delta x$ constante.\n",
    "\n",
    "(grafico aca)"
   ]
  },
  {
   "cell_type": "markdown",
   "metadata": {},
   "source": [
    "## Limitaciones:\n",
    "- Malos para funciones de alto contraste (grafico)\n",
    "- No aplican si hay divergencias (integrables) en el intervalo [a,b] (si se crea una grilla que contiene una divergencia, entonces el algoritmo falla, dado que no sabe como manejarlas) (grafico)\n",
    "- El intervalo debe ser finito. i.e. en general no se puede calcular $\\int_{a}^{\\infty}f(x)dx$. Aunque en ocasiones con un cambio de variables se cambian los limites de integracion tal que resulte un intervalo finito."
   ]
  },
  {
   "cell_type": "markdown",
   "metadata": {},
   "source": [
    "## Metodo trapezoidal para $\\Delta x$ no constante\n",
    "\n",
    "Cuando $\\Delta x$ no es constante, la expresion anterior pierde validez. En este caso se debe implementar un $\\Delta x$ variable y la expresion queda de la siguiente manera:\n",
    "\n",
    "$$\n",
    "\\int_{a}^{b}f(x)dx \\sim \\frac{1}{2}\\sum_{i=0}^{N-1}(x_{i+1}-x_{i})(f(x_{i+1})+f(x_{i}))\n",
    "$$"
   ]
  }
 ],
 "metadata": {
  "anaconda-cloud": {},
  "kernelspec": {
   "display_name": "Python [Root]",
   "language": "python",
   "name": "Python [Root]"
  },
  "language_info": {
   "codemirror_mode": {
    "name": "ipython",
    "version": 2
   },
   "file_extension": ".py",
   "mimetype": "text/x-python",
   "name": "python",
   "nbconvert_exporter": "python",
   "pygments_lexer": "ipython2",
   "version": "2.7.12"
  }
 },
 "nbformat": 4,
 "nbformat_minor": 0
}
